{
 "cells": [
  {
   "cell_type": "markdown",
   "metadata": {},
   "source": [
    "## Volume Demand Forecast for Multiple Products Using DeepAR in AWS  "
   ]
  },
  {
   "cell_type": "markdown",
   "metadata": {},
   "source": [
    "### 1. Project purpose"
   ]
  },
  {
   "cell_type": "markdown",
   "metadata": {},
   "source": [
    "A company has a large portfolio of products distributed to retailers through agencies. There are thousands of unique agency-SKU/product combinations. In order to plan its production and distribution as well as help agencies with their planning, it is important for the company to have an accurate estimate of demand at SKU level for each agency.\n",
    "\n",
    "Our purpose is to achieve the following using DeepAR algorithm:\n",
    "- taking advantage of DeepAR's RNN framework. To predict product demand that's not only trained on their own historical data, but also trained on historical data of other variables(e.g., sales price and promotion price) that have impact on product demand.  \n",
    "- predicting the monthly demand volume(hectoliters) for each Agency-SKU combination (350 Agency-SKU combinations in total) for year 2018 based on data from 2013-2017.\n",
    "- handling cold start problems, which is to do volume demand forecast for new Agency-SKU combinations that we don't have any data on.  "
   ]
  },
  {
   "cell_type": "markdown",
   "metadata": {},
   "source": [
    "### 2. Set up Sagemaker instance and load Data"
   ]
  },
  {
   "cell_type": "markdown",
   "metadata": {},
   "source": [
    "#### 2.1 Sagemaker instance and S3 setup"
   ]
  },
  {
   "cell_type": "code",
   "execution_count": 8,
   "metadata": {},
   "outputs": [],
   "source": [
    "from __future__ import print_function\n",
    "%matplotlib inline\n",
    "from random import shuffle\n",
    "import random\n",
    "import datetime\n",
    "import os\n",
    "import boto3\n",
    "import s3fs\n",
    "import sagemaker\n",
    "from sagemaker import get_execution_role\n",
    "from sagemaker.amazon.amazon_estimator import get_image_uri\n",
    "import numpy as np\n",
    "import pandas as pd\n",
    "import matplotlib.pyplot as plt"
   ]
  },
  {
   "cell_type": "code",
   "execution_count": 25,
   "metadata": {},
   "outputs": [],
   "source": [
    "# set random seeds for reproducibility\n",
    "np.random.seed(4216)\n",
    "random.seed(4216)"
   ]
  },
  {
   "cell_type": "code",
   "execution_count": null,
   "metadata": {},
   "outputs": [],
   "source": [
    "# configure the container image to be used for the region that we are running in. Import the Amazon SageMaker Python SDK and get the deepar container\n",
    "sagemaker_session = sagemaker.Session()\n",
    "region_name = boto3.Session().region_name #sagemaker_session.boto3_region_name \n",
    "# region_name = \"us-east-1\"\n",
    "image_name = sagemaker.image_uris.retrieve(framework=\"forecasting-deepar\", region=region_name)\n"
   ]
  },
  {
   "cell_type": "code",
   "execution_count": 30,
   "metadata": {},
   "outputs": [],
   "source": [
    "#Get the execution role for the notebook instance. This is the IAM role created for the notebook instance that creates an access b/w S3 bucket and this instance\n",
    "role = get_execution_role()\n",
    "#load our data saved in S3 bucket\n",
    "df_historical_volume = pd.read_csv(\"s3://sagemaker-us-east-2-939910653043/product-demand-forecast-deepar/data/historical_volume.csv\")\n",
    "df_price_sales_promotion = pd.read_csv(\"s3://sagemaker-us-east-2-939910653043/product-demand-forecast-deepar/data/price_sales_promotion.csv\")\n"
   ]
  },
  {
   "cell_type": "markdown",
   "metadata": {},
   "source": [
    "#### 2.2 Loading data\n",
    "We have two datasets available for analysis. \n",
    "- historical_volume.csv : holds volume(hectoliters) sales data at Agency-SKU-month level from Jan 2013 to Dec 2017\n",
    "- price_sales_promotion.csv : Holds price (dollar/hectoliters), sales(dollar/hectoliters) and promotion(dollar/hectoliter) at Agency-SKU-month level from Jan 2013 to Dec 2017. The relationship between these 3 variables: price = sales + promotion\n",
    "\n",
    "Data source: https://www.kaggle.com/utathya/future-volume-prediction "
   ]
  },
  {
   "cell_type": "code",
   "execution_count": 34,
   "metadata": {},
   "outputs": [
    {
     "data": {
      "text/html": [
       "<div>\n",
       "<style scoped>\n",
       "    .dataframe tbody tr th:only-of-type {\n",
       "        vertical-align: middle;\n",
       "    }\n",
       "\n",
       "    .dataframe tbody tr th {\n",
       "        vertical-align: top;\n",
       "    }\n",
       "\n",
       "    .dataframe thead th {\n",
       "        text-align: right;\n",
       "    }\n",
       "</style>\n",
       "<table border=\"1\" class=\"dataframe\">\n",
       "  <thead>\n",
       "    <tr style=\"text-align: right;\">\n",
       "      <th></th>\n",
       "      <th>Agency</th>\n",
       "      <th>SKU</th>\n",
       "      <th>YearMonth</th>\n",
       "      <th>Volume</th>\n",
       "    </tr>\n",
       "  </thead>\n",
       "  <tbody>\n",
       "    <tr>\n",
       "      <th>12147</th>\n",
       "      <td>Agency_28</td>\n",
       "      <td>SKU_01</td>\n",
       "      <td>201704</td>\n",
       "      <td>36.828</td>\n",
       "    </tr>\n",
       "    <tr>\n",
       "      <th>11652</th>\n",
       "      <td>Agency_26</td>\n",
       "      <td>SKU_03</td>\n",
       "      <td>201604</td>\n",
       "      <td>0.000</td>\n",
       "    </tr>\n",
       "    <tr>\n",
       "      <th>67</th>\n",
       "      <td>Agency_50</td>\n",
       "      <td>SKU_01</td>\n",
       "      <td>201301</td>\n",
       "      <td>1144.800</td>\n",
       "    </tr>\n",
       "  </tbody>\n",
       "</table>\n",
       "</div>"
      ],
      "text/plain": [
       "          Agency     SKU  YearMonth    Volume\n",
       "12147  Agency_28  SKU_01     201704    36.828\n",
       "11652  Agency_26  SKU_03     201604     0.000\n",
       "67     Agency_50  SKU_01     201301  1144.800"
      ]
     },
     "execution_count": 34,
     "metadata": {},
     "output_type": "execute_result"
    }
   ],
   "source": [
    "df_historical_volume.sample(3)"
   ]
  },
  {
   "cell_type": "code",
   "execution_count": 35,
   "metadata": {},
   "outputs": [
    {
     "data": {
      "text/html": [
       "<div>\n",
       "<style scoped>\n",
       "    .dataframe tbody tr th:only-of-type {\n",
       "        vertical-align: middle;\n",
       "    }\n",
       "\n",
       "    .dataframe tbody tr th {\n",
       "        vertical-align: top;\n",
       "    }\n",
       "\n",
       "    .dataframe thead th {\n",
       "        text-align: right;\n",
       "    }\n",
       "</style>\n",
       "<table border=\"1\" class=\"dataframe\">\n",
       "  <thead>\n",
       "    <tr style=\"text-align: right;\">\n",
       "      <th></th>\n",
       "      <th>Agency</th>\n",
       "      <th>SKU</th>\n",
       "      <th>YearMonth</th>\n",
       "      <th>Price</th>\n",
       "      <th>Sales</th>\n",
       "      <th>Promotions</th>\n",
       "    </tr>\n",
       "  </thead>\n",
       "  <tbody>\n",
       "    <tr>\n",
       "      <th>14719</th>\n",
       "      <td>Agency_29</td>\n",
       "      <td>SKU_05</td>\n",
       "      <td>201407</td>\n",
       "      <td>1847.22027</td>\n",
       "      <td>1793.835005</td>\n",
       "      <td>53.385265</td>\n",
       "    </tr>\n",
       "    <tr>\n",
       "      <th>7573</th>\n",
       "      <td>Agency_25</td>\n",
       "      <td>SKU_03</td>\n",
       "      <td>201403</td>\n",
       "      <td>1332.12766</td>\n",
       "      <td>1062.636702</td>\n",
       "      <td>269.490958</td>\n",
       "    </tr>\n",
       "    <tr>\n",
       "      <th>6114</th>\n",
       "      <td>Agency_58</td>\n",
       "      <td>SKU_02</td>\n",
       "      <td>201708</td>\n",
       "      <td>1674.31615</td>\n",
       "      <td>1338.204383</td>\n",
       "      <td>336.111767</td>\n",
       "    </tr>\n",
       "  </tbody>\n",
       "</table>\n",
       "</div>"
      ],
      "text/plain": [
       "          Agency     SKU  YearMonth       Price        Sales  Promotions\n",
       "14719  Agency_29  SKU_05     201407  1847.22027  1793.835005   53.385265\n",
       "7573   Agency_25  SKU_03     201403  1332.12766  1062.636702  269.490958\n",
       "6114   Agency_58  SKU_02     201708  1674.31615  1338.204383  336.111767"
      ]
     },
     "execution_count": 35,
     "metadata": {},
     "output_type": "execute_result"
    }
   ],
   "source": [
    "df_price_sales_promotion.sample(3)"
   ]
  },
  {
   "cell_type": "markdown",
   "metadata": {},
   "source": [
    "### 3. Data cleaning\n",
    "To manipulate data to the correct format required by SageMaker DeepAR "
   ]
  },
  {
   "cell_type": "markdown",
   "metadata": {},
   "source": [
    "#### 3.1 Combining two datasets\n",
    "Combine two datasets by 'Agency', 'SKU', 'YearMonth'."
   ]
  },
  {
   "cell_type": "code",
   "execution_count": 373,
   "metadata": {},
   "outputs": [],
   "source": [
    "df1 = df_historical_volume.sort_values(by = ['Agency', 'SKU', 'YearMonth'], inplace = False, ignore_index = True)\n",
    "df2 = df_price_sales_promotion.sort_values(by = ['Agency', 'SKU', 'YearMonth'], inplace = False, ignore_index = True)\n",
    "\n",
    "df = pd.merge(df1, df2, how = 'inner', on = ['Agency', 'SKU', 'YearMonth'])\n",
    "\n",
    "df['time'] = pd.to_datetime(df['YearMonth'], format = '%Y%m')"
   ]
  },
  {
   "cell_type": "markdown",
   "metadata": {},
   "source": [
    "#### 3.2 Label encoding \n",
    "Use label encoders for 2 category variables-- Agency and SKU since DeepAR only accepts categories represented by number. There are 58 different agencies and 25 different SKUs. "
   ]
  },
  {
   "cell_type": "code",
   "execution_count": null,
   "metadata": {
    "scrolled": true
   },
   "outputs": [],
   "source": [
    "from sklearn import preprocessing\n",
    "#use label encoding to encode 'Agency' and 'SKU' to numbers \n",
    "agency_le = preprocessing.LabelEncoder()\n",
    "df['Agency_le'] = agency_le.fit_transform(df['Agency'])\n",
    "sku_le = preprocessing.LabelEncoder()\n",
    "df['SKU_le'] = sku_le.fit_transform(df['SKU'])\n",
    "\n",
    "agency_label = agency_le.transform(agency_le.classes_)\n",
    "agency_name = agency_le.classes_\n",
    "agency_label_encoder = pd.DataFrame(zip(agency_name, agency_label), columns = ['agency_name', 'agency_label']).to_string(index = False)\n",
    "sku_label = sku_le.transform(sku_le.classes_)\n",
    "sku_name = sku_le.classes_\n",
    "sku_label_encoder = pd.DataFrame(zip(sku_name, sku_label), columns = ['sku_name', 'sku_label']).to_string(index = False)"
   ]
  },
  {
   "cell_type": "markdown",
   "metadata": {},
   "source": [
    "#### 3.3 Transforming the data format\n",
    "We start to transform data from a vertical format to a dictionary format using group_by and merge etc. After grouping the data by 'Agency' and 'SKU', we can see we have 350 time series that we will need to predict simultaneously."
   ]
  },
  {
   "cell_type": "code",
   "execution_count": 300,
   "metadata": {},
   "outputs": [
    {
     "data": {
      "text/plain": [
       "(array([], dtype=int64),)"
      ]
     },
     "execution_count": 300,
     "metadata": {},
     "output_type": "execute_result"
    }
   ],
   "source": [
    "group_by = df.groupby(['Agency_le', 'SKU_le']) # cat: 350 agency-SKU combination time series in total\n",
    "volume_series = group_by['Volume'].apply(list).reset_index(name = 'volume')\n",
    "sales_series = group_by['Sales'].apply(list).reset_index(name = 'sales')\n",
    "promotion_series = group_by['Promotions'].apply(list).reset_index(name = 'promotions')\n",
    "\n",
    "df_merge = pd.merge(volume_series, sales_series, how= 'inner', on= ['Agency_le','SKU_le']) \n",
    "df_merge2 = pd.merge(df_merge, promotion_series, how = 'inner', on = ['Agency_le','SKU_le'])\n",
    "#df_merge2['cat_agency_sku'] = df_merge2[['Agency_le', 'SKU_le']].apply(lambda x: ','.join(x.map(str)), axis=1)\n",
    "df_merge2['cat_agency_sku'] = df_merge2[['Agency_le', 'SKU_le']].apply(lambda x: list(x), axis=1)\n",
    "\n",
    "#check the lengths of each dynamic features.len should be 60.\n",
    "\n",
    "np.where(df_merge2.volume.apply(lambda x: len(x)) != 60)\n",
    "np.where(df_merge2.sales.apply(lambda x: len(x)) !=60)\n",
    "np.where(df_merge2.promotions.apply(lambda x: len(x)) !=60)"
   ]
  },
  {
   "cell_type": "code",
   "execution_count": 754,
   "metadata": {},
   "outputs": [
    {
     "data": {
      "text/html": [
       "<div>\n",
       "<style scoped>\n",
       "    .dataframe tbody tr th:only-of-type {\n",
       "        vertical-align: middle;\n",
       "    }\n",
       "\n",
       "    .dataframe tbody tr th {\n",
       "        vertical-align: top;\n",
       "    }\n",
       "\n",
       "    .dataframe thead th {\n",
       "        text-align: right;\n",
       "    }\n",
       "</style>\n",
       "<table border=\"1\" class=\"dataframe\">\n",
       "  <thead>\n",
       "    <tr style=\"text-align: right;\">\n",
       "      <th></th>\n",
       "      <th>Agency</th>\n",
       "      <th>SKU</th>\n",
       "      <th>average_volume</th>\n",
       "    </tr>\n",
       "  </thead>\n",
       "  <tbody>\n",
       "    <tr>\n",
       "      <th>87</th>\n",
       "      <td>Agency_16</td>\n",
       "      <td>SKU_04</td>\n",
       "      <td>1040.106178</td>\n",
       "    </tr>\n",
       "    <tr>\n",
       "      <th>9</th>\n",
       "      <td>Agency_02</td>\n",
       "      <td>SKU_04</td>\n",
       "      <td>4078.060653</td>\n",
       "    </tr>\n",
       "    <tr>\n",
       "      <th>181</th>\n",
       "      <td>Agency_31</td>\n",
       "      <td>SKU_03</td>\n",
       "      <td>592.906040</td>\n",
       "    </tr>\n",
       "  </tbody>\n",
       "</table>\n",
       "</div>"
      ],
      "text/plain": [
       "        Agency     SKU  average_volume\n",
       "87   Agency_16  SKU_04     1040.106178\n",
       "9    Agency_02  SKU_04     4078.060653\n",
       "181  Agency_31  SKU_03      592.906040"
      ]
     },
     "execution_count": 754,
     "metadata": {},
     "output_type": "execute_result"
    }
   ],
   "source": [
    "# monthly volume, sales and promotions for each agency and sku averaged over 2013-2017\n",
    "Agency_SKU = df.groupby(['Agency','SKU'])\n",
    "Agency_SKU_mean = Agency_SKU['Volume'].mean().reset_index(name = 'average_volume')\n",
    "Agency_SKU_mean.sample(3)"
   ]
  },
  {
   "cell_type": "markdown",
   "metadata": {},
   "source": [
    "#### 3.4 Spliting data to training and test sets\n",
    "- training set: 48-month data from 2013-01 to 2016-12\n",
    "- test set: 12-month data from 2017-01 to 2017-12\n"
   ]
  },
  {
   "cell_type": "code",
   "execution_count": 303,
   "metadata": {},
   "outputs": [],
   "source": [
    "df_merge2['sales_promotions'] = df_merge2.apply(lambda x: np.vstack([np.array(x['sales']),np.array(x['promotions'])]),axis = 1)\n",
    "df_merge2['training_volume'] = df_merge2['volume'].apply(lambda x: x[:48])\n",
    "df_merge2['training_sales'] = df_merge2['sales'].apply(lambda x: x[:48])\n",
    "df_merge2['training_promotions'] = df_merge2['promotions'].apply(lambda x: x[:48])\n",
    "df_merge2['training_sales_promotions'] = df_merge2.apply(lambda x: np.vstack([np.array(x['training_sales']),np.array(x['training_promotions'])]),axis = 1)\n",
    "\n",
    "df_merge2['test_volume'] = df_merge2['volume'].apply(lambda x: x[48:])\n",
    "df_merge2['test_sales'] = df_merge2['sales'].apply(lambda x: x[48:])\n",
    "df_merge2['test_promotions'] = df_merge2['promotions'].apply(lambda x: x[48:])\n",
    "df_merge2['test_sales_promotions'] = df_merge2.apply(lambda x: np.vstack([np.array(x['test_sales']),np.array(x['test_promotions'])]),axis = 1)\n",
    "\n",
    "# create the dynamic_feat: sales and promotions for batch transform data. \n",
    "df_merge2['batch_sales'] = df_merge2.apply(lambda x: x.sales + x.test_sales, axis = 1)\n",
    "df_merge2['batch_promotions'] = df_merge2.apply(lambda x: x.promotions + x.test_promotions, axis = 1)\n",
    "df_merge2['batch_sales_promotions'] = df_merge2.apply(lambda x: np.vstack([np.array(x['batch_sales']),np.array(x['batch_promotions'])]),axis = 1)"
   ]
  },
  {
   "cell_type": "code",
   "execution_count": 757,
   "metadata": {},
   "outputs": [
    {
     "data": {
      "text/html": [
       "<div>\n",
       "<style scoped>\n",
       "    .dataframe tbody tr th:only-of-type {\n",
       "        vertical-align: middle;\n",
       "    }\n",
       "\n",
       "    .dataframe tbody tr th {\n",
       "        vertical-align: top;\n",
       "    }\n",
       "\n",
       "    .dataframe thead th {\n",
       "        text-align: right;\n",
       "    }\n",
       "</style>\n",
       "<table border=\"1\" class=\"dataframe\">\n",
       "  <thead>\n",
       "    <tr style=\"text-align: right;\">\n",
       "      <th></th>\n",
       "      <th>Agency_le</th>\n",
       "      <th>SKU_le</th>\n",
       "      <th>volume</th>\n",
       "      <th>sales</th>\n",
       "      <th>promotions</th>\n",
       "      <th>cat_agency_sku</th>\n",
       "      <th>training_volume</th>\n",
       "      <th>training_sales</th>\n",
       "      <th>training_promotions</th>\n",
       "      <th>training_sales_promotions</th>\n",
       "      <th>...</th>\n",
       "      <th>test_sales</th>\n",
       "      <th>test_promotions</th>\n",
       "      <th>test_sales_promotions</th>\n",
       "      <th>batch_sales</th>\n",
       "      <th>batch_promotions</th>\n",
       "      <th>batch_sales_promotions</th>\n",
       "      <th>sales_promotions</th>\n",
       "      <th>Agency</th>\n",
       "      <th>SKU</th>\n",
       "      <th>average_volume</th>\n",
       "    </tr>\n",
       "  </thead>\n",
       "  <tbody>\n",
       "    <tr>\n",
       "      <th>126</th>\n",
       "      <td>20</td>\n",
       "      <td>0</td>\n",
       "      <td>[42.443999999999996, 39.635999999999996, 33.69...</td>\n",
       "      <td>[1060.82236, 1059.24404, 1096.6482369999999, 1...</td>\n",
       "      <td>[106.17764, 107.75596000000002, 109.338742, 11...</td>\n",
       "      <td>[20, 0]</td>\n",
       "      <td>[42.443999999999996, 39.635999999999996, 33.69...</td>\n",
       "      <td>[1060.82236, 1059.24404, 1096.6482369999999, 1...</td>\n",
       "      <td>[106.17764, 107.75596000000002, 109.338742, 11...</td>\n",
       "      <td>[[1060.82236, 1059.24404, 1096.6482369999999, ...</td>\n",
       "      <td>...</td>\n",
       "      <td>[1313.624556, 1321.591404, 1313.194334, 1239.6...</td>\n",
       "      <td>[316.990373, 322.471096, 330.86816600000003, 4...</td>\n",
       "      <td>[[1313.624556, 1321.591404, 1313.194334, 1239....</td>\n",
       "      <td>[1060.82236, 1059.24404, 1096.6482369999999, 1...</td>\n",
       "      <td>[106.17764, 107.75596000000002, 109.338742, 11...</td>\n",
       "      <td>[[1060.82236, 1059.24404, 1096.6482369999999, ...</td>\n",
       "      <td>[[1060.82236, 1059.24404, 1096.6482369999999, ...</td>\n",
       "      <td>Agency_23</td>\n",
       "      <td>SKU_01</td>\n",
       "      <td>41.333400</td>\n",
       "    </tr>\n",
       "    <tr>\n",
       "      <th>136</th>\n",
       "      <td>21</td>\n",
       "      <td>4</td>\n",
       "      <td>[433.6893, 436.2453, 558.8055, 560.4669, 639.0...</td>\n",
       "      <td>[1195.790835, 1197.118984, 1236.672614, 1291.5...</td>\n",
       "      <td>[114.385222, 113.057073, 116.23699599999999, 1...</td>\n",
       "      <td>[21, 4]</td>\n",
       "      <td>[433.6893, 436.2453, 558.8055, 560.4669, 639.0...</td>\n",
       "      <td>[1195.790835, 1197.118984, 1236.672614, 1291.5...</td>\n",
       "      <td>[114.385222, 113.057073, 116.23699599999999, 1...</td>\n",
       "      <td>[[1195.790835, 1197.118984, 1236.672614, 1291....</td>\n",
       "      <td>...</td>\n",
       "      <td>[1520.4862, 1476.422039, 1461.040886, 1387.006...</td>\n",
       "      <td>[240.48908500000002, 279.967596, 287.832221, 3...</td>\n",
       "      <td>[[1520.4862, 1476.422039, 1461.040886, 1387.00...</td>\n",
       "      <td>[1195.790835, 1197.118984, 1236.672614, 1291.5...</td>\n",
       "      <td>[114.385222, 113.057073, 116.23699599999999, 1...</td>\n",
       "      <td>[[1195.790835, 1197.118984, 1236.672614, 1291....</td>\n",
       "      <td>[[1195.790835, 1197.118984, 1236.672614, 1291....</td>\n",
       "      <td>Agency_24</td>\n",
       "      <td>SKU_05</td>\n",
       "      <td>507.508395</td>\n",
       "    </tr>\n",
       "    <tr>\n",
       "      <th>330</th>\n",
       "      <td>55</td>\n",
       "      <td>2</td>\n",
       "      <td>[229.68900000000002, 273.258, 371.2248, 298.38...</td>\n",
       "      <td>[1164.8596730000002, 1152.550517, 1208.036876,...</td>\n",
       "      <td>[96.988671, 112.558066, 72.03876600000001, 149...</td>\n",
       "      <td>[55, 2]</td>\n",
       "      <td>[229.68900000000002, 273.258, 371.2248, 298.38...</td>\n",
       "      <td>[1164.8596730000002, 1152.550517, 1208.036876,...</td>\n",
       "      <td>[96.988671, 112.558066, 72.03876600000001, 149...</td>\n",
       "      <td>[[1164.8596730000002, 1152.550517, 1208.036876...</td>\n",
       "      <td>...</td>\n",
       "      <td>[1368.17466, 1415.8808390000002, 1394.083991, ...</td>\n",
       "      <td>[292.504778, 259.806903, 296.47146000000004, 3...</td>\n",
       "      <td>[[1368.17466, 1415.8808390000002, 1394.083991,...</td>\n",
       "      <td>[1164.8596730000002, 1152.550517, 1208.036876,...</td>\n",
       "      <td>[96.988671, 112.558066, 72.03876600000001, 149...</td>\n",
       "      <td>[[1164.8596730000002, 1152.550517, 1208.036876...</td>\n",
       "      <td>[[1164.8596730000002, 1152.550517, 1208.036876...</td>\n",
       "      <td>Agency_58</td>\n",
       "      <td>SKU_03</td>\n",
       "      <td>301.496200</td>\n",
       "    </tr>\n",
       "  </tbody>\n",
       "</table>\n",
       "<p>3 rows × 21 columns</p>\n",
       "</div>"
      ],
      "text/plain": [
       "     Agency_le  SKU_le                                             volume  \\\n",
       "126         20       0  [42.443999999999996, 39.635999999999996, 33.69...   \n",
       "136         21       4  [433.6893, 436.2453, 558.8055, 560.4669, 639.0...   \n",
       "330         55       2  [229.68900000000002, 273.258, 371.2248, 298.38...   \n",
       "\n",
       "                                                 sales  \\\n",
       "126  [1060.82236, 1059.24404, 1096.6482369999999, 1...   \n",
       "136  [1195.790835, 1197.118984, 1236.672614, 1291.5...   \n",
       "330  [1164.8596730000002, 1152.550517, 1208.036876,...   \n",
       "\n",
       "                                            promotions cat_agency_sku  \\\n",
       "126  [106.17764, 107.75596000000002, 109.338742, 11...        [20, 0]   \n",
       "136  [114.385222, 113.057073, 116.23699599999999, 1...        [21, 4]   \n",
       "330  [96.988671, 112.558066, 72.03876600000001, 149...        [55, 2]   \n",
       "\n",
       "                                       training_volume  \\\n",
       "126  [42.443999999999996, 39.635999999999996, 33.69...   \n",
       "136  [433.6893, 436.2453, 558.8055, 560.4669, 639.0...   \n",
       "330  [229.68900000000002, 273.258, 371.2248, 298.38...   \n",
       "\n",
       "                                        training_sales  \\\n",
       "126  [1060.82236, 1059.24404, 1096.6482369999999, 1...   \n",
       "136  [1195.790835, 1197.118984, 1236.672614, 1291.5...   \n",
       "330  [1164.8596730000002, 1152.550517, 1208.036876,...   \n",
       "\n",
       "                                   training_promotions  \\\n",
       "126  [106.17764, 107.75596000000002, 109.338742, 11...   \n",
       "136  [114.385222, 113.057073, 116.23699599999999, 1...   \n",
       "330  [96.988671, 112.558066, 72.03876600000001, 149...   \n",
       "\n",
       "                             training_sales_promotions  ...  \\\n",
       "126  [[1060.82236, 1059.24404, 1096.6482369999999, ...  ...   \n",
       "136  [[1195.790835, 1197.118984, 1236.672614, 1291....  ...   \n",
       "330  [[1164.8596730000002, 1152.550517, 1208.036876...  ...   \n",
       "\n",
       "                                            test_sales  \\\n",
       "126  [1313.624556, 1321.591404, 1313.194334, 1239.6...   \n",
       "136  [1520.4862, 1476.422039, 1461.040886, 1387.006...   \n",
       "330  [1368.17466, 1415.8808390000002, 1394.083991, ...   \n",
       "\n",
       "                                       test_promotions  \\\n",
       "126  [316.990373, 322.471096, 330.86816600000003, 4...   \n",
       "136  [240.48908500000002, 279.967596, 287.832221, 3...   \n",
       "330  [292.504778, 259.806903, 296.47146000000004, 3...   \n",
       "\n",
       "                                 test_sales_promotions  \\\n",
       "126  [[1313.624556, 1321.591404, 1313.194334, 1239....   \n",
       "136  [[1520.4862, 1476.422039, 1461.040886, 1387.00...   \n",
       "330  [[1368.17466, 1415.8808390000002, 1394.083991,...   \n",
       "\n",
       "                                           batch_sales  \\\n",
       "126  [1060.82236, 1059.24404, 1096.6482369999999, 1...   \n",
       "136  [1195.790835, 1197.118984, 1236.672614, 1291.5...   \n",
       "330  [1164.8596730000002, 1152.550517, 1208.036876,...   \n",
       "\n",
       "                                      batch_promotions  \\\n",
       "126  [106.17764, 107.75596000000002, 109.338742, 11...   \n",
       "136  [114.385222, 113.057073, 116.23699599999999, 1...   \n",
       "330  [96.988671, 112.558066, 72.03876600000001, 149...   \n",
       "\n",
       "                                batch_sales_promotions  \\\n",
       "126  [[1060.82236, 1059.24404, 1096.6482369999999, ...   \n",
       "136  [[1195.790835, 1197.118984, 1236.672614, 1291....   \n",
       "330  [[1164.8596730000002, 1152.550517, 1208.036876...   \n",
       "\n",
       "                                      sales_promotions     Agency     SKU  \\\n",
       "126  [[1060.82236, 1059.24404, 1096.6482369999999, ...  Agency_23  SKU_01   \n",
       "136  [[1195.790835, 1197.118984, 1236.672614, 1291....  Agency_24  SKU_05   \n",
       "330  [[1164.8596730000002, 1152.550517, 1208.036876...  Agency_58  SKU_03   \n",
       "\n",
       "    average_volume  \n",
       "126      41.333400  \n",
       "136     507.508395  \n",
       "330     301.496200  \n",
       "\n",
       "[3 rows x 21 columns]"
      ]
     },
     "execution_count": 757,
     "metadata": {},
     "output_type": "execute_result"
    }
   ],
   "source": [
    "full_df_clean = pd.concat([df_merge2,Agency_SKU_mean], axis = 1)\n",
    "full_df_clean.sample(3)"
   ]
  },
  {
   "cell_type": "markdown",
   "metadata": {},
   "source": [
    "#### 3.5 Transforming training and test sets to dictionary format\n",
    "Transforming data to dictionary format to be prepared for json line format required by DeepAR"
   ]
  },
  {
   "cell_type": "code",
   "execution_count": 422,
   "metadata": {},
   "outputs": [],
   "source": [
    "start_training = pd.Timestamp(\"2013-01-01 00:00:00\")\n",
    "\n",
    "\n",
    "training_data = []\n",
    "for _,row in df_merge2.iterrows():\n",
    "    training_dic = {\"start\": str(start_training),\n",
    "           \"target\": row['training_volume'],\n",
    "           \"cat\": row['cat_agency_sku'],\n",
    "           \"dynamic_feat\": row['training_sales_promotions'] \n",
    "           }\n",
    "    training_data.append(training_dic)\n",
    "\n",
    "    \n",
    "\n",
    "test_data = []\n",
    "for _,row in df_merge2.iterrows():\n",
    "    test_dic = {\"start\": str(start_training),\n",
    "           \"target\": row['volume'],\n",
    "           \"cat\": row['cat_agency_sku'],\n",
    "           \"dynamic_feat\": row['sales_promotions'] \n",
    "           }\n",
    "    test_data.append(test_dic)\n",
    "\n",
    "\n",
    "# create batch transform input: predicting volume demand for each SKU and agency pair for 201801 - 201812 given dynamic_feat--'sales' and 'promotions' remain the same as of 2017\n",
    "batch_transform_input = []\n",
    "for _,row in df_merge2.iterrows():\n",
    "    batch_dic = {\"start\": str(start_training),\n",
    "           \"target\": row['volume'],\n",
    "           \"cat\": row['cat_agency_sku'],\n",
    "           \"dynamic_feat\": row['batch_sales_promotions'] \n",
    "           }\n",
    "    batch_transform_input.append(batch_dic)\n",
    "\n",
    "    \n",
    "    \n",
    "#dataset for calculating predicted volume for each series in the test set\n",
    "data_for_calculating_predicted = []\n",
    "for _,row in df_merge2.iterrows():\n",
    "    calculating_predicted_dic = {\"start\": str(start_training),\n",
    "           \"target\": row['training_volume'],\n",
    "           \"cat\": row['cat_agency_sku'],\n",
    "           \"dynamic_feat\": row['sales_promotions'] \n",
    "           }\n",
    "    data_for_calculating_predicted.append(calculating_predicted_dic)"
   ]
  },
  {
   "cell_type": "markdown",
   "metadata": {},
   "source": [
    "#### 3.6 Transforming dictionary to json lines"
   ]
  },
  {
   "cell_type": "code",
   "execution_count": 423,
   "metadata": {},
   "outputs": [],
   "source": [
    "import json \n",
    "\n",
    "# correct np narray\n",
    "class NumpyEncoder(json.JSONEncoder):\n",
    "    \"\"\" Special json encoder for numpy types \"\"\"\n",
    "    def default(self, obj):\n",
    "        if isinstance(obj, np.integer):\n",
    "            return int(obj)\n",
    "        elif isinstance(obj, np.floating):\n",
    "            return float(obj)\n",
    "        elif isinstance(obj, np.ndarray):\n",
    "            return obj.tolist()\n",
    "        return json.JSONEncoder.default(self, obj)\n",
    "\n",
    "# convert to json lines: each line is a json object\n",
    "def write_dicts_to_file(path, data):\n",
    "    with open(path, 'wb') as fp:\n",
    "        for d in data:\n",
    "            fp.write(json.dumps(d, cls=NumpyEncoder).encode(\"utf-8\"))\n",
    "            fp.write(\"\\n\".encode('utf-8'))\n",
    "\n",
    "write_dicts_to_file(\"train.json\", training_data)\n",
    "write_dicts_to_file(\"test.json\", test_data)\n",
    "write_dicts_to_file(\"batch_transform_input.json\", batch_transform_input)\n",
    "write_dicts_to_file(\"data_for_calculating_predicted.json\", data_for_calculating_predicted)"
   ]
  },
  {
   "cell_type": "markdown",
   "metadata": {},
   "source": [
    "#### 3.7 Copying the local json lines to S3 where DeepAR can access"
   ]
  },
  {
   "cell_type": "code",
   "execution_count": 424,
   "metadata": {},
   "outputs": [],
   "source": [
    "import logging\n",
    "import boto3\n",
    "from botocore.exceptions import ClientError\n",
    "\n",
    "\n",
    "def upload_file(file_name, bucket, object_name=None):\n",
    "    \"\"\"Upload a file to an S3 bucket\n",
    "\n",
    "    :param file_name: File to upload\n",
    "    :param bucket: Bucket to upload to\n",
    "    :param object_name: S3 object name. If not specified then file_name is used\n",
    "    :return: True if file was uploaded, else False\n",
    "    \"\"\"\n",
    "\n",
    "    # If S3 object_name was not specified, use file_name\n",
    "    if object_name is None:\n",
    "        object_name = file_name\n",
    "\n",
    "    # Upload the file\n",
    "    s3_client = boto3.client('s3')\n",
    "    try:\n",
    "        response = s3_client.upload_file(file_name, bucket, object_name)\n",
    "    except ClientError as e:\n",
    "        logging.error(e)\n",
    "        return False\n",
    "    return True"
   ]
  },
  {
   "cell_type": "code",
   "execution_count": 425,
   "metadata": {},
   "outputs": [
    {
     "data": {
      "text/plain": [
       "True"
      ]
     },
     "execution_count": 425,
     "metadata": {},
     "output_type": "execute_result"
    }
   ],
   "source": [
    "BUCKET_NAME = 'sagemaker-us-east-2-939910653043'\n",
    "upload_file(\"train.json\", BUCKET_NAME, object_name= \"product-demand-forecast-deepar/data/train.json\")\n",
    "upload_file(\"test.json\", BUCKET_NAME, object_name= \"product-demand-forecast-deepar/data/test.json\")\n",
    "upload_file(\"batch_transform_input.json\", BUCKET_NAME, object_name= \"product-demand-forecast-deepar/batch_transform_input.json\")\n",
    "upload_file(\"data_for_calculating_predicted.json\", BUCKET_NAME, object_name= \"product-demand-forecast-deepar/data_for_calculating_predicted.json\")"
   ]
  },
  {
   "cell_type": "code",
   "execution_count": 541,
   "metadata": {},
   "outputs": [
    {
     "name": "stdout",
     "output_type": "stream",
     "text": [
      "{\"start\": \"2013-01-01 00:00:00\", \"target\": [80.676, 98.064, 133.704, 147.312, 175.608, 180.792, 149.796, 161.136, 147.744, 149.364, 95.36399999999999, 104.544, 100.54799999999999, 123.552, 125.17200000000001, 70.524, 21.924, 66.744, 89.1, 107.352, 100.87200000000001, 113.292, 68.148, 75.492, 41.58, 58.32, 87.37200000000001, 81.0, 91.90799999999999, 86.616, 135.0, 97.632, 103.464, 92.016, 54.864, 40.608000000000004, 55.836000000000006, 52.812, 88.992, 66.63600000000001, 49.14, 4.32, 54.4319999999...\n"
     ]
    }
   ],
   "source": [
    "# have a look to what was just written to S3. Now data has been successfully customized to json line which is required by DeepAR\n",
    "s3filesystem = s3fs.S3FileSystem()\n",
    "with s3filesystem.open(BUCKET_NAME + \"/product-demand-forecast-deepar/data/test.json\", 'rb') as fp:\n",
    "    print(fp.readline().decode(\"utf-8\")[:500] + \"...\")"
   ]
  },
  {
   "cell_type": "markdown",
   "metadata": {},
   "source": [
    "### 4. Train the DeepAR model"
   ]
  },
  {
   "cell_type": "markdown",
   "metadata": {},
   "source": [
    "#### 4.1 Training a model\n",
    "After specifying the hyperparameters below, we trained a DeepAR model with the training set. Meanwhile, the built-in function let us test the model with the test set. As we can see below, the test error was obtained: test RMSE <loss>=759.711203642"
   ]
  },
  {
   "cell_type": "code",
   "execution_count": null,
   "metadata": {},
   "outputs": [],
   "source": [
    "s3_output_path = \"s3://sagemaker-us-east-2-939910653043/product-demand-forecast-deepar/output\"\n",
    "\n",
    "estimator = sagemaker.estimator.Estimator(\n",
    "    sagemaker_session=sagemaker_session,\n",
    "    image_uri=image_name,\n",
    "    role=role,\n",
    "    train_instance_count=1,\n",
    "    train_instance_type='ml.c5.2xlarge',\n",
    "    base_job_name='deepar-volume-demand-forecast',\n",
    "    output_path=s3_output_path\n",
    ")"
   ]
  },
  {
   "cell_type": "code",
   "execution_count": 432,
   "metadata": {},
   "outputs": [],
   "source": [
    "hyperparameters = {\n",
    "    \"time_freq\":\"M\" ,\n",
    "    \"cardinality\" : \"auto\",\n",
    "    \"num_dynamic_feat\":\"auto\",\n",
    "    \"epochs\": \"162\",       \n",
    "    \"dropout_rate\": \"0.1\",\n",
    "    \"embedding_dimension\" : \"10\",\n",
    "    \"likelihood\":\"gaussian\",\n",
    "    \"num_cells\": \"94\",\n",
    "    \"num_layers\": \"4\",\n",
    "    \"mini_batch_size\":\"256\",\n",
    "    #\"learning_rate\": \"1e-3\",\n",
    "    \"num_eval_samples\": \"100\",\n",
    "    \"test_quantiles\": \"[0.1, 0.2, 0.3, 0.4, 0.5, 0.6, 0.7, 0.8, 0.9]\",\n",
    "    \"context_length\": \"12\",\n",
    "    \"prediction_length\": \"12\"}\n",
    "estimator.set_hyperparameters(**hyperparameters)"
   ]
  },
  {
   "cell_type": "code",
   "execution_count": null,
   "metadata": {
    "scrolled": true
   },
   "outputs": [],
   "source": [
    "%%time\n",
    "data_channels = {\n",
    "    \"train\": \"s3://sagemaker-us-east-2-939910653043/product-demand-forecast-deepar/data/train.json\",\n",
    "    \"test\": \"s3://sagemaker-us-east-2-939910653043/product-demand-forecast-deepar/data/test.json\"\n",
    "}\n",
    "\n",
    "estimator.fit(inputs=data_channels, wait=True)"
   ]
  },
  {
   "cell_type": "markdown",
   "metadata": {},
   "source": [
    "#### 4.2 Training multiple DeepAR models with auto hyperparamter Tuning function\n",
    "We chose 5 hyperparameters considered to having bigger impact on the performance of the model such as learning rate and minibatch size. Then, we searched the best values of them within the specified ranges to have the lowest test error. We trained 6 models in total and the best model has the test RMSE: 792.3036499023438 which is higher than that of the previous model. "
   ]
  },
  {
   "cell_type": "code",
   "execution_count": null,
   "metadata": {},
   "outputs": [],
   "source": [
    "s3_output_path_auto = \"s3://sagemaker-us-east-2-939910653043/product-demand-forecast-deepar/output_auto\"\n",
    "\n",
    "estimator_auto = sagemaker.estimator.Estimator(\n",
    "    sagemaker_session=sagemaker_session,\n",
    "    image_name=image_name,\n",
    "    role=role,\n",
    "    train_instance_count=1,\n",
    "    train_instance_type='ml.c5.2xlarge',\n",
    "    base_job_name='deepar-volume-demand-forecast-autotuning',\n",
    "    output_path=s3_output_path_auto\n",
    ")"
   ]
  },
  {
   "cell_type": "code",
   "execution_count": 440,
   "metadata": {},
   "outputs": [],
   "source": [
    "hyperparameters_auto = {\n",
    "    \"time_freq\":\"M\" ,\n",
    "    \"cardinality\" : \"auto\",\n",
    "    \"num_dynamic_feat\":\"auto\",\n",
    "    #\"epochs\": \"162\",\n",
    "    \"dropout_rate\": \"0.1\",\n",
    "    \"embedding_dimension\" : \"10\",\n",
    "    \"likelihood\":\"gaussian\",\n",
    "    #\"num_cells\": \"50\",\n",
    "    #\"num_layers\": \"4\",\n",
    "    #\"mini_batch_size\":\"256\",\n",
    "    #\"learning_rate\": \"1e-3\",\n",
    "    \"num_eval_samples\": \"100\",\n",
    "    \"test_quantiles\": \"[0.1, 0.5, 0.9]\",\n",
    "    #\"context_length\": \"12\",\n",
    "    \"prediction_length\": \"12\"}\n",
    "estimator_auto.set_hyperparameters(**hyperparameters_auto)"
   ]
  },
  {
   "cell_type": "code",
   "execution_count": 441,
   "metadata": {},
   "outputs": [],
   "source": [
    "from sagemaker.tuner import HyperparameterTuner, IntegerParameter, CategoricalParameter, ContinuousParameter\n",
    "\n",
    "\n",
    "hyperparameter_ranges = {\"learning_rate\": ContinuousParameter(1e-4, 1e-1),\n",
    "                         \"mini_batch_size\": IntegerParameter(128, 350),\n",
    "                         \"epochs\": IntegerParameter(10, 500),\n",
    "                         \"context_length\":IntegerParameter(12, 24),\n",
    "                         \"num_cells\":IntegerParameter(30, 200),\n",
    "                         \"num_layers\": IntegerParameter(1, 8)\n",
    "                        }"
   ]
  },
  {
   "cell_type": "code",
   "execution_count": null,
   "metadata": {},
   "outputs": [],
   "source": [
    "objective_metric_name = \"test:RMSE\" # start with \"test:\"  can be found on the website\n",
    "\n",
    "\n",
    "# the order of the params in the hyperparametertuner matters\n",
    "tuner = HyperparameterTuner(estimator_auto,\n",
    "                            objective_metric_name,\n",
    "                            hyperparameter_ranges,\n",
    "                            metric_definitions=None,\n",
    "                            strategy=\"Bayesian\",\n",
    "                            objective_type=\"Minimize\",\n",
    "                            max_jobs=6,\n",
    "                            max_parallel_jobs=3,\n",
    "                            tags=None,\n",
    "                            base_tuning_job_name='deepar-auto-tuner')\n",
    "\n",
    "data_channels = {\n",
    "    \"train\": \"s3://sagemaker-us-east-2-939910653043/product-demand-forecast-deepar/data/train.json\",\n",
    "    \"test\": \"s3://sagemaker-us-east-2-939910653043/product-demand-forecast-deepar/data/test.json\"}\n",
    "\n",
    "tuner.fit(inputs = data_channels,logs=True, include_cls_metadata=False)"
   ]
  },
  {
   "cell_type": "markdown",
   "metadata": {},
   "source": [
    "#### 4.3 Exploring to train the models using Auto-tuning with a warm_start\n",
    "We wanted to keep improving the performace of our model, so we kept tuning the parameters for 2 more models with a warm start from the 6 models we previously auto-tuned. The test errors of the 2 models obtained are even higher. Use warm start to start a hyperparameter tuning job using one or more previous tuning jobs as a starting point. \n",
    "\n",
    "In the future, we should consider exploring better ranges of hyperparamters for auto-tuning and training more models to get better results, but for now we will just use the model with the lowest test error of all models. "
   ]
  },
  {
   "cell_type": "code",
   "execution_count": null,
   "metadata": {},
   "outputs": [],
   "source": [
    "from sagemaker.tuner import WarmStartConfig,WarmStartTypes\n",
    "\n",
    "# Warm start tuning jobs typically take longer to start than standard hyperparameter tuning jobs, \n",
    "# because the results from the parent jobs have to be loaded before the job can start. The increased time depends on the total number of training jobs launched by the parent jobs.\n",
    "parent_tuning_job_name = \"deepar-auto-tuner-201108-1008\"\n",
    "warm_start_config = WarmStartConfig(WarmStartTypes.IDENTICAL_DATA_AND_ALGORITHM, parents={parent_tuning_job_name})\n"
   ]
  },
  {
   "cell_type": "code",
   "execution_count": null,
   "metadata": {},
   "outputs": [],
   "source": [
    "objective_metric_name = \"test:RMSE\" # start with \"test:\" that can be found on the website\n",
    "\n",
    "\n",
    "# the order of the params in the hyperparametertuner matters\n",
    "tuner_warm_start = HyperparameterTuner(estimator_auto,\n",
    "                            objective_metric_name,\n",
    "                            hyperparameter_ranges,\n",
    "                            metric_definitions=None,\n",
    "                            strategy=\"Bayesian\",\n",
    "                            objective_type=\"Minimize\",\n",
    "                            max_jobs=2,\n",
    "                            max_parallel_jobs=2,\n",
    "                            tags=None,\n",
    "                            base_tuning_job_name='deepar-warm-start',\n",
    "                            warm_start_config=warm_start_config)\n",
    "\n",
    "data_channels = {\n",
    "    \"train\": \"s3://sagemaker-us-east-2-939910653043/product-demand-forecast-deepar/data/train.json\",\n",
    "    \"test\": \"s3://sagemaker-us-east-2-939910653043/product-demand-forecast-deepar/data/test.json\"}\n",
    "\n",
    "tuner_warm_start.fit(inputs = data_channels,logs=True, include_cls_metadata=False)"
   ]
  },
  {
   "cell_type": "code",
   "execution_count": null,
   "metadata": {},
   "outputs": [],
   "source": [
    "# we did auto hyperparameter tuning jobs with a warm start twice. It shows both of them below.\n",
    "tuning_job_name = 'deepar-warm-start-201108-1212'\n",
    "tuner_parent = sagemaker.HyperparameterTuningJobAnalytics(tuning_job_name)\n",
    "full_df = tuner_parent.dataframe()\n",
    "# full_df.sort_values(['FinalObjectiveValue'], ascending=True)"
   ]
  },
  {
   "cell_type": "markdown",
   "metadata": {},
   "source": [
    "#### 4.4 Plotting actual vs. predicted demand volumes in 2017 using the best model\n",
    "We plotted 20 graphs for 20 Agency-SKU combinations below. Each graph has time(month/2017) as x-axis and demand volume(hectoliters) as y-axis. \n",
    "\n",
    "The black line is actual volume and the red line is the predicted volume averaged by all samples, which is the mean prediction. Mean prediction is only a point estimate, and we can see some predicted values can't catch the trend."
   ]
  },
  {
   "cell_type": "code",
   "execution_count": null,
   "metadata": {
    "scrolled": true
   },
   "outputs": [],
   "source": [
    "# use the best model to predict the data in the testset using batch transform method\n",
    "PREFIX = \"product-demand-forecast-deepar\"\n",
    "\n",
    "batch_input_test = 's3://{}/{}/data_for_calculating_predicted'.format(BUCKET_NAME, PREFIX)\n",
    "\n",
    "# The location to store the results of the batch transform job\n",
    "batch_output_test = 's3://{}/{}/predicted_values_testset'.format(BUCKET_NAME, PREFIX)\n",
    "\n",
    "#set environment: only include prediction averaged over 200 samples\n",
    "env ={ \"DEEPAR_INFERENCE_CONFIG\" : \"{ \\\"num_samples\\\": 200, \\\"output_types\\\": [\\\"mean\\\"] }\"}\n",
    "\n",
    "\n",
    "transformer_test = sagemaker.transformer.Transformer(model_name = 'volume-demand-deepar-model',instance_count=1, instance_type='ml.m4.xlarge',strategy = 'SingleRecord',env = env,output_path=batch_output_test)\n",
    "\n",
    "\n",
    "# SplitType must be set according to the ContentType of the input data.\n",
    "transformer_test.transform(data=batch_input_test, data_type='S3Prefix', content_type='application/jsonlines', split_type='Line')\n"
   ]
  },
  {
   "cell_type": "code",
   "execution_count": 207,
   "metadata": {
    "scrolled": true
   },
   "outputs": [],
   "source": [
    "# change the predictions output to correct json format and make dataframe \n",
    "s3filesystem = s3fs.S3FileSystem()\n",
    "with s3filesystem.open(BUCKET_NAME + \"/product-demand-forecast-deepar/predicted_values_testset/data_for_calculating_predicted.json.out\", 'rb') as f:\n",
    "    pred = json.loads(\"[\" + f.read().decode(\"utf-8\").replace(\"}{\", \"},\\n{\") + \"]\") #json.loads() only takes str and return dic\n",
    "# combine the predictions output to to clean full dataset we have\n",
    "pred_test = pd.DataFrame(pred).rename(columns={\"mean\": \"predicted_volume\"})\n",
    "full_data = pd.concat([full_df_clean ,pred_test], axis = 1).rename(columns={\"test_volume\": \"actual_volume\"})"
   ]
  },
  {
   "cell_type": "code",
   "execution_count": 784,
   "metadata": {},
   "outputs": [
    {
     "data": {
      "image/png": "[encoded data removed]",
      "text/plain": [
       "<Figure size 1080x720 with 20 Axes>"
      ]
     },
     "metadata": {
      "needs_background": "light"
     },
     "output_type": "display_data"
    }
   ],
   "source": [
    "# plot actual vs. pred for 20 agency-sku combinations for the testset\n",
    "test_period_range = pd.period_range(start='2017-01-01', end='2017-12-01', freq='M').strftime('%Y-%m')\n",
    "\n",
    "import matplotlib.pyplot as plt\n",
    "\n",
    "def compare_pred_actual_plot(ax, row):\n",
    "    ax.plot(test_period_range,full_data.loc[row,'predicted_volume'], color = 'red', label = 'pred')\n",
    "    ax.plot(test_period_range,full_data.loc[row,'actual_volume'],color = 'black', label = 'actual')\n",
    "    ax.set_title(full_data.loc[row,'Agency']+' , '+full_data.loc[row,'SKU'] , fontsize=10)\n",
    "    ax.set_ylabel('Volume Demand', fontsize=10)\n",
    "    ax.set_xticklabels(test_period_range, rotation=75)\n",
    "\n",
    "\n",
    "fig, axs = plt.subplots(nrows=4, ncols=5, constrained_layout=True,figsize=(15,10),sharex=True)\n",
    "\n",
    "for ax, row in zip(axs.flat,range(50,70,1)): \n",
    "    compare_pred_actual_plot(ax, row)\n",
    "    \n",
    "fig.legend( labels = ['pred','actual'],bbox_to_anchor=(0.8, 0.8, 0.3, 0.2), loc=\"upper right\", title=\"Legend Title\")\n",
    "fig.suptitle('Plot of pred vs. actual volume demand in 2017 for each agency and sku in the test set', fontsize=15)\n",
    "fig.savefig('Plot of pred vs. actual volume demand in 2017 50-70.png')\n"
   ]
  },
  {
   "cell_type": "markdown",
   "metadata": {},
   "source": [
    "#### 4.5 Adding 10%-90% quantiles to the actual-pred plot\n",
    "I obtained predicted 10% and 90% quantiles using batch transform, so we can add the 80% interval to the plot to better catch the trend of ther predicted demand. We can see below that the 80% intervals of most plots catch the general trend of the actual values. An interval like this can help better prepare for the demand.\n",
    "\n",
    "Details: https://docs.aws.amazon.com/sagemaker/latest/dg/deepar-in-formats.html"
   ]
  },
  {
   "cell_type": "code",
   "execution_count": null,
   "metadata": {
    "scrolled": true
   },
   "outputs": [],
   "source": [
    "#get predicted 10% and 90% quantiles for volume demand in test set using batch transform\n",
    "BUCKET_NAME = 'sagemaker-us-east-2-939910653043'\n",
    "PREFIX = \"product-demand-forecast-deepar\"\n",
    "batch_input_test = 's3://{}/{}/data_for_calculating_predicted'.format(BUCKET_NAME, PREFIX)\n",
    "batch_output_test_quantiles= 's3://{}/{}/predicted_values_testset0.1_0.9quantiles'.format(BUCKET_NAME, PREFIX)\n",
    "\n",
    "#set environment: only include prediction averaged over 200 samples\n",
    "env_quantiles ={ \"DEEPAR_INFERENCE_CONFIG\" : \"{ \\\"num_samples\\\": 200, \\\"output_types\\\": [\\\"quantiles\\\"] ,\\\"quantiles\\\": [\\\"0.1\\\",\\\"0.9\\\"]}\"}\n",
    "transformer_test_quantiles = sagemaker.transformer.Transformer(model_name = 'volume-demand-deepar-model',instance_count=1, instance_type='ml.m4.xlarge',strategy = 'SingleRecord',env = env_quantiles,output_path=batch_output_test_quantiles)\n",
    "# SplitType must be set according to the ContentType of the input data.\n",
    "transformer_test_quantiles.transform(data=batch_input_test, data_type='S3Prefix', content_type='application/jsonlines', split_type='Line')"
   ]
  },
  {
   "cell_type": "code",
   "execution_count": 112,
   "metadata": {},
   "outputs": [
    {
     "data": {
      "text/html": [
       "<div>\n",
       "<style scoped>\n",
       "    .dataframe tbody tr th:only-of-type {\n",
       "        vertical-align: middle;\n",
       "    }\n",
       "\n",
       "    .dataframe tbody tr th {\n",
       "        vertical-align: top;\n",
       "    }\n",
       "\n",
       "    .dataframe thead th {\n",
       "        text-align: right;\n",
       "    }\n",
       "</style>\n",
       "<table border=\"1\" class=\"dataframe\">\n",
       "  <thead>\n",
       "    <tr style=\"text-align: right;\">\n",
       "      <th></th>\n",
       "      <th>Agency_le</th>\n",
       "      <th>SKU_le</th>\n",
       "      <th>volume</th>\n",
       "      <th>sales</th>\n",
       "      <th>promotions</th>\n",
       "      <th>cat_agency_sku</th>\n",
       "      <th>training_volume</th>\n",
       "      <th>training_sales</th>\n",
       "      <th>training_promotions</th>\n",
       "      <th>training_sales_promotions</th>\n",
       "      <th>...</th>\n",
       "      <th>batch_sales</th>\n",
       "      <th>batch_promotions</th>\n",
       "      <th>batch_sales_promotions</th>\n",
       "      <th>sales_promotions</th>\n",
       "      <th>Agency</th>\n",
       "      <th>SKU</th>\n",
       "      <th>average_volume</th>\n",
       "      <th>predicted_volume</th>\n",
       "      <th>pred_10p_quantile</th>\n",
       "      <th>pred_90p_quantile</th>\n",
       "    </tr>\n",
       "  </thead>\n",
       "  <tbody>\n",
       "    <tr>\n",
       "      <th>227</th>\n",
       "      <td>39</td>\n",
       "      <td>0</td>\n",
       "      <td>[239.65200000000002, 286.092, 310.824, 341.928...</td>\n",
       "      <td>[1103.174258, 1114.252769, 1146.799966, 1182.9...</td>\n",
       "      <td>[29.763241999999998, 18.684731, 17.83296499999...</td>\n",
       "      <td>[39, 0]</td>\n",
       "      <td>[239.65200000000002, 286.092, 310.824, 341.928...</td>\n",
       "      <td>[1103.174258, 1114.252769, 1146.799966, 1182.9...</td>\n",
       "      <td>[29.763241999999998, 18.684731, 17.83296499999...</td>\n",
       "      <td>[[1103.174258 1114.252769 1146.799966 1182.995...</td>\n",
       "      <td>...</td>\n",
       "      <td>[1103.174258, 1114.252769, 1146.799966, 1182.9...</td>\n",
       "      <td>[29.763241999999998, 18.684731, 17.83296499999...</td>\n",
       "      <td>[[1103.174258 1114.252769 1146.799966 1182.995...</td>\n",
       "      <td>[[1103.174258 1114.252769 1146.799966 1182.995...</td>\n",
       "      <td>Agency_42</td>\n",
       "      <td>SKU_01</td>\n",
       "      <td>357.937200</td>\n",
       "      <td>[407.549987793, 383.6038818359, 373.1228637695...</td>\n",
       "      <td>[241.6286621094, 222.1826934814, 237.720062255...</td>\n",
       "      <td>[563.3975830078, 593.4237060547, 593.962524414...</td>\n",
       "    </tr>\n",
       "    <tr>\n",
       "      <th>235</th>\n",
       "      <td>40</td>\n",
       "      <td>3</td>\n",
       "      <td>[372.537, 459.441, 592.0335, 364.9329, 562.831...</td>\n",
       "      <td>[1555.3026619999998, 1601.1089060000002, 1672....</td>\n",
       "      <td>[180.344799, 134.42659, 120.78884599999999, 21...</td>\n",
       "      <td>[40, 3]</td>\n",
       "      <td>[372.537, 459.441, 592.0335, 364.9329, 562.831...</td>\n",
       "      <td>[1555.3026619999998, 1601.1089060000002, 1672....</td>\n",
       "      <td>[180.344799, 134.42659, 120.78884599999999, 21...</td>\n",
       "      <td>[[1555.302662  1601.108906  1672.556516  1634....</td>\n",
       "      <td>...</td>\n",
       "      <td>[1555.3026619999998, 1601.1089060000002, 1672....</td>\n",
       "      <td>[180.344799, 134.42659, 120.78884599999999, 21...</td>\n",
       "      <td>[[1555.302662  1601.108906  1672.556516  1634....</td>\n",
       "      <td>[[1555.302662  1601.108906  1672.556516  1634....</td>\n",
       "      <td>Agency_43</td>\n",
       "      <td>SKU_04</td>\n",
       "      <td>312.870603</td>\n",
       "      <td>[328.5222167969, 274.8731689453, 283.605224609...</td>\n",
       "      <td>[44.4495239258, 99.048614502, 54.1541442871, 6...</td>\n",
       "      <td>[592.1439208984, 589.9252319336, 570.370849609...</td>\n",
       "    </tr>\n",
       "    <tr>\n",
       "      <th>285</th>\n",
       "      <td>48</td>\n",
       "      <td>2</td>\n",
       "      <td>[3513.3534, 3457.09425, 3708.77925, 4867.884, ...</td>\n",
       "      <td>[1230.196357, 1241.882108, 1273.2891539999998,...</td>\n",
       "      <td>[100.893918, 88.713004, 91.546317, 78.443748, ...</td>\n",
       "      <td>[48, 2]</td>\n",
       "      <td>[3513.3534, 3457.09425, 3708.77925, 4867.884, ...</td>\n",
       "      <td>[1230.196357, 1241.882108, 1273.2891539999998,...</td>\n",
       "      <td>[100.893918, 88.713004, 91.546317, 78.443748, ...</td>\n",
       "      <td>[[1230.196357 1241.882108 1273.289154 1324.005...</td>\n",
       "      <td>...</td>\n",
       "      <td>[1230.196357, 1241.882108, 1273.2891539999998,...</td>\n",
       "      <td>[100.893918, 88.713004, 91.546317, 78.443748, ...</td>\n",
       "      <td>[[1230.196357 1241.882108 1273.289154 1324.005...</td>\n",
       "      <td>[[1230.196357 1241.882108 1273.289154 1324.005...</td>\n",
       "      <td>Agency_51</td>\n",
       "      <td>SKU_03</td>\n",
       "      <td>4768.757063</td>\n",
       "      <td>[5096.9638671875, 4561.5893554688, 4594.428710...</td>\n",
       "      <td>[3247.6044921875, 3326.0625, 3175.91796875, 29...</td>\n",
       "      <td>[6360.6982421875, 6210.1865234375, 6193.046875...</td>\n",
       "    </tr>\n",
       "  </tbody>\n",
       "</table>\n",
       "<p>3 rows × 24 columns</p>\n",
       "</div>"
      ],
      "text/plain": [
       "     Agency_le  SKU_le                                             volume  \\\n",
       "227         39       0  [239.65200000000002, 286.092, 310.824, 341.928...   \n",
       "235         40       3  [372.537, 459.441, 592.0335, 364.9329, 562.831...   \n",
       "285         48       2  [3513.3534, 3457.09425, 3708.77925, 4867.884, ...   \n",
       "\n",
       "                                                 sales  \\\n",
       "227  [1103.174258, 1114.252769, 1146.799966, 1182.9...   \n",
       "235  [1555.3026619999998, 1601.1089060000002, 1672....   \n",
       "285  [1230.196357, 1241.882108, 1273.2891539999998,...   \n",
       "\n",
       "                                            promotions cat_agency_sku  \\\n",
       "227  [29.763241999999998, 18.684731, 17.83296499999...        [39, 0]   \n",
       "235  [180.344799, 134.42659, 120.78884599999999, 21...        [40, 3]   \n",
       "285  [100.893918, 88.713004, 91.546317, 78.443748, ...        [48, 2]   \n",
       "\n",
       "                                       training_volume  \\\n",
       "227  [239.65200000000002, 286.092, 310.824, 341.928...   \n",
       "235  [372.537, 459.441, 592.0335, 364.9329, 562.831...   \n",
       "285  [3513.3534, 3457.09425, 3708.77925, 4867.884, ...   \n",
       "\n",
       "                                        training_sales  \\\n",
       "227  [1103.174258, 1114.252769, 1146.799966, 1182.9...   \n",
       "235  [1555.3026619999998, 1601.1089060000002, 1672....   \n",
       "285  [1230.196357, 1241.882108, 1273.2891539999998,...   \n",
       "\n",
       "                                   training_promotions  \\\n",
       "227  [29.763241999999998, 18.684731, 17.83296499999...   \n",
       "235  [180.344799, 134.42659, 120.78884599999999, 21...   \n",
       "285  [100.893918, 88.713004, 91.546317, 78.443748, ...   \n",
       "\n",
       "                             training_sales_promotions  ...  \\\n",
       "227  [[1103.174258 1114.252769 1146.799966 1182.995...  ...   \n",
       "235  [[1555.302662  1601.108906  1672.556516  1634....  ...   \n",
       "285  [[1230.196357 1241.882108 1273.289154 1324.005...  ...   \n",
       "\n",
       "                                           batch_sales  \\\n",
       "227  [1103.174258, 1114.252769, 1146.799966, 1182.9...   \n",
       "235  [1555.3026619999998, 1601.1089060000002, 1672....   \n",
       "285  [1230.196357, 1241.882108, 1273.2891539999998,...   \n",
       "\n",
       "                                      batch_promotions  \\\n",
       "227  [29.763241999999998, 18.684731, 17.83296499999...   \n",
       "235  [180.344799, 134.42659, 120.78884599999999, 21...   \n",
       "285  [100.893918, 88.713004, 91.546317, 78.443748, ...   \n",
       "\n",
       "                                batch_sales_promotions  \\\n",
       "227  [[1103.174258 1114.252769 1146.799966 1182.995...   \n",
       "235  [[1555.302662  1601.108906  1672.556516  1634....   \n",
       "285  [[1230.196357 1241.882108 1273.289154 1324.005...   \n",
       "\n",
       "                                      sales_promotions     Agency     SKU  \\\n",
       "227  [[1103.174258 1114.252769 1146.799966 1182.995...  Agency_42  SKU_01   \n",
       "235  [[1555.302662  1601.108906  1672.556516  1634....  Agency_43  SKU_04   \n",
       "285  [[1230.196357 1241.882108 1273.289154 1324.005...  Agency_51  SKU_03   \n",
       "\n",
       "    average_volume                                   predicted_volume  \\\n",
       "227     357.937200  [407.549987793, 383.6038818359, 373.1228637695...   \n",
       "235     312.870603  [328.5222167969, 274.8731689453, 283.605224609...   \n",
       "285    4768.757063  [5096.9638671875, 4561.5893554688, 4594.428710...   \n",
       "\n",
       "                                     pred_10p_quantile  \\\n",
       "227  [241.6286621094, 222.1826934814, 237.720062255...   \n",
       "235  [44.4495239258, 99.048614502, 54.1541442871, 6...   \n",
       "285  [3247.6044921875, 3326.0625, 3175.91796875, 29...   \n",
       "\n",
       "                                     pred_90p_quantile  \n",
       "227  [563.3975830078, 593.4237060547, 593.962524414...  \n",
       "235  [592.1439208984, 589.9252319336, 570.370849609...  \n",
       "285  [6360.6982421875, 6210.1865234375, 6193.046875...  \n",
       "\n",
       "[3 rows x 24 columns]"
      ]
     },
     "execution_count": 112,
     "metadata": {},
     "output_type": "execute_result"
    }
   ],
   "source": [
    "#change the output from batch trnsform to the correct format and combine to the full data set we use to plot\n",
    "s3filesystem = s3fs.S3FileSystem()\n",
    "with s3filesystem.open(BUCKET_NAME + \"/product-demand-forecast-deepar/predicted_values_testset0.1_0.9quantiles/data_for_calculating_predicted.json.out\", 'rb') as f:\n",
    "    pred_quantiles = json.loads(\"[\" + f.read().decode(\"utf-8\").replace(\"}{\", \"},\\n{\") + \"]\") #json.loads() only takes str and return dic\n",
    "\n",
    "df_quan = pd.DataFrame(pred_quantiles)\n",
    "df_quan['pred_10p_quantile'] = df_quan['quantiles'].apply(lambda x: x.get('0.1'))\n",
    "df_quan['pred_90p_quantile'] = df_quan['quantiles'].apply(lambda x: x.get('0.9'))\n",
    "#turn negative values in 10 percent and 90 percent quantile to zero \n",
    "for row in range(0,350):\n",
    "    df_quan['pred_10p_quantile'][row] = [0 if x<0 else x for x in df_quan['pred_10p_quantile'][row]]\n",
    "    df_quan['pred_90p_quantile'][row] = [0 if x<0 else x for x in df_quan['pred_90p_quantile'][row]] \n",
    "full_data_final = pd.concat([full_data ,df_quan[['pred_10p_quantile','pred_90p_quantile']]], axis = 1)\n",
    "full_data_final = full_data_final.loc[:, ~full_data_final.columns.str.contains('^Unnamed')].rename(columns={\"test_volume\": \"actual_volume\"}) #delete unnamed index col\n",
    "full_data_final.to_csv('clean_full_data_final.csv')\n",
    "full_data_final.sample(3)\n"
   ]
  },
  {
   "cell_type": "code",
   "execution_count": 1,
   "metadata": {},
   "outputs": [
    {
     "ename": "NameError",
     "evalue": "name 'pd' is not defined",
     "output_type": "error",
     "traceback": [
      "\u001b[0;31m---------------------------------------------------------------------------\u001b[0m",
      "\u001b[0;31mNameError\u001b[0m                                 Traceback (most recent call last)",
      "\u001b[1;32m/Users/mahsa/Documents/github/product_demand_forecast_using_DeepAR_Amazon_SageMaker-master/data_cleaning&model_building&hyperparam_tuning&predict_in_Sagemaker.ipynb Cell 53\u001b[0m line \u001b[0;36m2\n\u001b[1;32m      <a href='vscode-notebook-cell:/Users/mahsa/Documents/github/product_demand_forecast_using_DeepAR_Amazon_SageMaker-master/data_cleaning%26model_building%26hyperparam_tuning%26predict_in_Sagemaker.ipynb#Y103sZmlsZQ%3D%3D?line=0'>1</a>\u001b[0m \u001b[39m# fix list stored as string issue using converters, then we can use them to plot. List objects have a string representation, allowing them to be stored as .csv files. Loading the .csv will then yield that string representation. reference: https://stackoverflow.com/questions/23111990/pandas-dataframe-stored-list-as-string-how-to-convert-back-to-list\u001b[39;00m\n\u001b[0;32m----> <a href='vscode-notebook-cell:/Users/mahsa/Documents/github/product_demand_forecast_using_DeepAR_Amazon_SageMaker-master/data_cleaning%26model_building%26hyperparam_tuning%26predict_in_Sagemaker.ipynb#Y103sZmlsZQ%3D%3D?line=1'>2</a>\u001b[0m data_for_plot \u001b[39m=\u001b[39m pd\u001b[39m.\u001b[39mread_csv(\u001b[39m'\u001b[39m\u001b[39mclean_full_data_final.csv\u001b[39m\u001b[39m'\u001b[39m,converters\u001b[39m=\u001b[39m{\u001b[39m'\u001b[39m\u001b[39mactual_volume\u001b[39m\u001b[39m'\u001b[39m: \u001b[39meval\u001b[39m,\u001b[39m'\u001b[39m\u001b[39mpredicted_volume\u001b[39m\u001b[39m'\u001b[39m: \u001b[39meval\u001b[39m,\u001b[39m'\u001b[39m\u001b[39mpred_10p_quantile\u001b[39m\u001b[39m'\u001b[39m: \u001b[39meval\u001b[39m,\u001b[39m'\u001b[39m\u001b[39mpred_90p_quantile\u001b[39m\u001b[39m'\u001b[39m: \u001b[39meval\u001b[39m})\n\u001b[1;32m      <a href='vscode-notebook-cell:/Users/mahsa/Documents/github/product_demand_forecast_using_DeepAR_Amazon_SageMaker-master/data_cleaning%26model_building%26hyperparam_tuning%26predict_in_Sagemaker.ipynb#Y103sZmlsZQ%3D%3D?line=5'>6</a>\u001b[0m test_period_range \u001b[39m=\u001b[39m pd\u001b[39m.\u001b[39mperiod_range(start\u001b[39m=\u001b[39m\u001b[39m'\u001b[39m\u001b[39m2017-01-01\u001b[39m\u001b[39m'\u001b[39m, end\u001b[39m=\u001b[39m\u001b[39m'\u001b[39m\u001b[39m2017-12-01\u001b[39m\u001b[39m'\u001b[39m, freq\u001b[39m=\u001b[39m\u001b[39m'\u001b[39m\u001b[39mM\u001b[39m\u001b[39m'\u001b[39m)\u001b[39m.\u001b[39mstrftime(\u001b[39m'\u001b[39m\u001b[39m%\u001b[39m\u001b[39mY-\u001b[39m\u001b[39m%\u001b[39m\u001b[39mm\u001b[39m\u001b[39m'\u001b[39m)\n\u001b[1;32m      <a href='vscode-notebook-cell:/Users/mahsa/Documents/github/product_demand_forecast_using_DeepAR_Amazon_SageMaker-master/data_cleaning%26model_building%26hyperparam_tuning%26predict_in_Sagemaker.ipynb#Y103sZmlsZQ%3D%3D?line=6'>7</a>\u001b[0m \u001b[39mdef\u001b[39;00m \u001b[39mcompare_pred_actual_plot\u001b[39m(ax, row):\n",
      "\u001b[0;31mNameError\u001b[0m: name 'pd' is not defined"
     ]
    }
   ],
   "source": [
    "# fix list stored as string issue using converters, then we can use them to plot. List objects have a string representation, allowing them to be stored as .csv files. Loading the .csv will then yield that string representation. reference: https://stackoverflow.com/questions/23111990/pandas-dataframe-stored-list-as-string-how-to-convert-back-to-list\n",
    "data_for_plot = pd.read_csv('clean_full_data_final.csv',converters={'actual_volume': eval,'predicted_volume': eval,'pred_10p_quantile': eval,'pred_90p_quantile': eval})\n",
    "\n",
    "\n",
    "\n",
    "test_period_range = pd.period_range(start='2017-01-01', end='2017-12-01', freq='M').strftime('%Y-%m')\n",
    "def compare_pred_actual_plot(ax, row):\n",
    "    ax.plot(test_period_range,data_for_plot.loc[row,'predicted_volume'], color = 'red', label = 'pred_mean')\n",
    "    ax.plot(test_period_range,data_for_plot.loc[row,'actual_volume'], color = 'black', label = 'actual')\n",
    "    #ax.plot(test_period_range,data_for_plot.loc[row,'pred_10p_quantile'], color = 'green', label = '10')\n",
    "    #ax.plot(test_period_range,data_for_plot.loc[row,'pred_90p_quantile'], color = 'green', label = '90')    \n",
    "    ax.fill_between(test_period_range,data_for_plot.loc[row,'pred_10p_quantile'],data_for_plot.loc[row,'pred_90p_quantile'],facecolor='green',color = 'green',alpha=0.2,label = '80% interval',linewidth=[2,2])\n",
    "    ax.set_title(data_for_plot.loc[row,'Agency']+' , '+data_for_plot.loc[row,'SKU'] , fontsize=10)\n",
    "    ax.set_ylabel('Volume Demand', fontsize=10)\n",
    "    ax.set_xticklabels(test_period_range, rotation=75)\n",
    "\n",
    "fig, axs = plt.subplots(nrows=4, ncols=5, constrained_layout=True,figsize=(15,10),sharex=True)\n",
    "\n",
    "for ax, row in zip(axs.flat,range(50,70,1)): \n",
    "    compare_pred_actual_plot(ax, row)\n",
    "    \n",
    "fig.legend( labels = ['pred','actual','80% interval'],bbox_to_anchor=(0.8, 0.8, 0.3, 0.2), loc=\"upper right\", title=\"Legend Title\")\n",
    "fig.suptitle('Plot of pred vs. actual volume demand in 2017 for each agency and sku in the test set', fontsize=15)\n",
    "fig.savefig('Plot of pred vs. actual volume demand in 2017 50-70 with 80% interval.png')   \n",
    "\n",
    "data_for_plot"
   ]
  },
  {
   "cell_type": "markdown",
   "metadata": {},
   "source": [
    "### 5. Making 12-month predictions with the best model for year 2018\n",
    "Feeding the data we have from 2013-01 to 2017-12 to the model(test RMSE =759.711203642), we made a 12 month prediction for 2018 for 350 Agency-SKU combinations using batch transform method. We set dynamic features for sales and promotions for 2018 the same as the year 2017 for the 350 time series. The predictions output for 2018 was obtained and stored in S3 bucket."
   ]
  },
  {
   "cell_type": "code",
   "execution_count": null,
   "metadata": {
    "scrolled": true
   },
   "outputs": [],
   "source": [
    "# predict volume demand for every SKU and agency pair for Jan, 2018 - Dec, 2018 given setting sales and promotions the same as the previous 12 months respectively \n",
    "PREFIX = \"product-demand-forecast-deepar\"\n",
    "\n",
    "batch_input_predict2018 = 's3://{}/{}/batch_transform_input'.format(BUCKET_NAME, PREFIX)\n",
    "\n",
    "# The location to store the results of the batch transform job\n",
    "batch_output_predict2018 = 's3://{}/{}/batch_inference_predict2018'.format(BUCKET_NAME, PREFIX)\n",
    "\n",
    "#set environment: only include prediction averaged over 200 samples\n",
    "env ={ \"DEEPAR_INFERENCE_CONFIG\" : \"{ \\\"num_samples\\\": 100, \\\"output_types\\\": [\\\"mean\\\"] }\"}\n",
    "transformer_predict2018 = sagemaker.transformer.Transformer(model_name = 'volume-demand-deepar-model',instance_count=1, instance_type='ml.m4.xlarge',strategy = 'SingleRecord',env = env,output_path=batch_output_predict2018)\n",
    "# SplitType must be set according to the ContentType of the input data.\n",
    "transformer_predict2018.transform(data=batch_input_predict2018, data_type='S3Prefix', content_type='application/jsonlines', split_type='Line')\n",
    "\n",
    "transformer_predict2018.wait()"
   ]
  },
  {
   "cell_type": "code",
   "execution_count": 213,
   "metadata": {},
   "outputs": [],
   "source": [
    "#predictor.delete_endpoint()\n",
    "#tuner_warm_start.best_training_job()\n",
    "#tuner_warm_start.best_estimator()"
   ]
  }
 ],
 "metadata": {
  "kernelspec": {
   "display_name": "playground",
   "language": "python",
   "name": "python3"
  },
  "language_info": {
   "codemirror_mode": {
    "name": "ipython",
    "version": 3
   },
   "file_extension": ".py",
   "mimetype": "text/x-python",
   "name": "python",
   "nbconvert_exporter": "python",
   "pygments_lexer": "ipython3",
   "version": "3.11.5"
  }
 },
 "nbformat": 4,
 "nbformat_minor": 4
}
